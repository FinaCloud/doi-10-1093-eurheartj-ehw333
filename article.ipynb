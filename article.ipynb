{
 "cells": [
  {
   "cell_type": "markdown",
   "id": "560b51c8-f47b-437a-a102-4299610fa450",
   "metadata": {},
   "source": [
    "# Results\n",
    "\n",
    "## Reduced iron content, IRE binding activity, and transferrin receptor expression in the failing human heart"
   ]
  },
  {
   "cell_type": "code",
   "execution_count": 1,
   "id": "fb363562-f846-4caa-8336-0dca21ce3ed8",
   "metadata": {},
   "outputs": [
    {
     "name": "stderr",
     "output_type": "stream",
     "text": [
      "Installing dependencies: 100%|████████████████████| 3/3 [00:01<00:00,  1.78it/s]\n"
     ]
    }
   ],
   "source": [
    "from math import ceil\n",
    "import pandas as pd\n",
    "from orkg import ORKG\n",
    "from scipy.stats import ttest_ind\n",
    "\n",
    "orkg = ORKG(host='https://orkg.org/orkg')\n",
    "orkg.templates.materialize_templates(['R12002', 'R12006', 'R12008'])\n",
    "tp = orkg.templates\n",
    "\n",
    "df = pd.read_csv('data.csv') \n",
    "tt = ttest_ind(df['non-failing heart (NF)'], \n",
    "               df['failing heart (F)'], \n",
    "               equal_var=False, nan_policy='omit')\n",
    "pvalue = tt.pvalue\n",
    "pvalue_ceil = ceil(pvalue * 1000) / 1000.0\n",
    "\n",
    "tp.students_ttest(\n",
    "  'Statistically significant hypothesis test with IRE binding dependent variable on failing and non-failing hearts (p<{})'.format(pvalue_ceil),\n",
    "  'http://purl.obolibrary.org/obo/GO_0030350', # the study design dependent variable\n",
    "  tp.pvalue('the p-value of the statistical hypothesis test (p<{})'.format(pvalue_ceil), tp.scalar_value_specification(pvalue)),\n",
    "  'data.csv', # the input dataset\n",
    ").serialize_to_file('article.contribution.1.json', as_jsonld=True)"
   ]
  },
  {
   "cell_type": "markdown",
   "id": "55f79078-9c87-45a1-b578-64a9cda81973",
   "metadata": {},
   "source": [
    "Consistent with previous reports (@bib1; @bib2) iron concentration was significantly lower in LV tissue samples from patients with advanced heart failure than in LV tissue samples from unused donor hearts. As shown by electrophoretic mobility shift assays, IRE binding activity was significantly (p<0.001) reduced in failing hearts (most pronounced in patients with ischemic cardiomyopathy) ([Figure 1](#fig1)). Protein expression levels of the transferrin receptor were significantly lower in failing hearts than in the controls."
   ]
  },
  {
   "cell_type": "code",
   "execution_count": 2,
   "id": "2cbe80dc-08da-4e8c-8db1-766dcc9b3573",
   "metadata": {
    "caption": "### IRE binding activity for non-failing (NF) and failing (F) hearts.",
    "id": "fig1",
    "label": "Figure 1",
    "tags": []
   },
   "outputs": [
    {
     "data": {
      "text/plain": [
       "<AxesSubplot:>"
      ]
     },
     "execution_count": 2,
     "metadata": {},
     "output_type": "execute_result"
    },
    {
     "data": {
      "image/png": "[encoded data removed]",
      "text/plain": [
       "<Figure size 432x288 with 1 Axes>"
      ]
     },
     "metadata": {
      "needs_background": "light"
     },
     "output_type": "display_data"
    }
   ],
   "source": [
    "df.plot.box()"
   ]
  }
 ],
 "metadata": {
  "authors": [
   {
    "familyNames": [
     "Haddad"
    ],
    "givenNames": [
     "Saba"
    ],
    "name": "Saba Haddad",
    "type": "Person"
   },
   {
    "familyNames": [
     "Wang"
    ],
    "givenNames": [
     "Yong"
    ],
    "name": "Yong Wang",
    "type": "Person"
   },
   {
    "familyNames": [
     "Galy"
    ],
    "givenNames": [
     "Bruno"
    ],
    "name": "Bruno Galy",
    "type": "Person"
   },
   {
    "familyNames": [
     "Korf-Klingebiel"
    ],
    "givenNames": [
     "Mortimer"
    ],
    "name": "Mortimer Korf-Klingebiel",
    "type": "Person"
   },
   {
    "familyNames": [
     "Hirsch"
    ],
    "givenNames": [
     "Valentin"
    ],
    "name": "Valentin Hirsch",
    "type": "Person"
   },
   {
    "familyNames": [
     "Baru"
    ],
    "givenNames": [
     "Abdul",
     "M."
    ],
    "name": "Abdul M. Baru",
    "type": "Person"
   },
   {
    "familyNames": [
     "Rostami"
    ],
    "givenNames": [
     "Fatemeh"
    ],
    "name": "Fatemeh Rostami",
    "type": "Person"
   },
   {
    "familyNames": [
     "Reboll"
    ],
    "givenNames": [
     "Marc",
     "R."
    ],
    "name": "Marc R. Reboll",
    "type": "Person"
   },
   {
    "familyNames": [
     "Heineke"
    ],
    "givenNames": [
     "Jörg"
    ],
    "name": "Jörg Heineke",
    "type": "Person"
   },
   {
    "familyNames": [
     "Flögel"
    ],
    "givenNames": [
     "Ulrich"
    ],
    "name": "Ulrich Flögel",
    "type": "Person"
   },
   {
    "familyNames": [
     "Groos"
    ],
    "givenNames": [
     "Stephanie"
    ],
    "name": "Stephanie Groos",
    "type": "Person"
   },
   {
    "familyNames": [
     "Renner"
    ],
    "givenNames": [
     "André"
    ],
    "name": "André Renner",
    "type": "Person"
   },
   {
    "familyNames": [
     "Toischer"
    ],
    "givenNames": [
     "Karl"
    ],
    "name": "Karl Toischer",
    "type": "Person"
   },
   {
    "familyNames": [
     "Zimmermann"
    ],
    "givenNames": [
     "Fabian"
    ],
    "name": "Fabian Zimmermann",
    "type": "Person"
   },
   {
    "familyNames": [
     "Engeli"
    ],
    "givenNames": [
     "Stefan"
    ],
    "name": "Stefan Engeli",
    "type": "Person"
   },
   {
    "familyNames": [
     "Jordan"
    ],
    "givenNames": [
     "Jens"
    ],
    "name": "Jens Jordan",
    "type": "Person"
   },
   {
    "familyNames": [
     "Bauersachs"
    ],
    "givenNames": [
     "Johann"
    ],
    "name": "Johann Bauersachs",
    "type": "Person"
   },
   {
    "familyNames": [
     "Hentze"
    ],
    "givenNames": [
     "Matthias",
     "W."
    ],
    "name": "Matthias W. Hentze",
    "type": "Person"
   },
   {
    "familyNames": [
     "Wollert"
    ],
    "givenNames": [
     "Kai",
     "C."
    ],
    "name": "Kai C. Wollert",
    "type": "Person"
   },
   {
    "familyNames": [
     "Kempf"
    ],
    "givenNames": [
     "Tibor"
    ],
    "name": "Tibor Kempf",
    "type": "Person"
   }
  ],
  "datePublished": {
   "type": "Date",
   "value": "2017-02-01"
  },
  "description": "Iron deficiency (ID) is associated with adverse outcomes in heart failure (HF) but the underlying mechanisms are incompletely understood ...",
  "genre": [
   "Article"
  ],
  "identifiers": [
   {
    "name": "doi",
    "propertyID": "https://registry.identifiers.org/registry/doi",
    "type": "PropertyValue",
    "value": "10.1093/eurheartj/ehw333"
   }
  ],
  "isPartOf": {
   "isPartOf": {
    "issns": [
     "1522-9645"
    ],
    "publisher": {
     "name": "Oxford University Press",
     "type": "Organization"
    },
    "title": "European Heart Journal",
    "type": "Periodical"
   },
   "pageEnd": 362,
   "pageStart": 372,
   "type": "PublicationVolume",
   "volumeNumber": 38
  },
  "kernelspec": {
   "display_name": "Python 3 (ipykernel)",
   "language": "python",
   "name": "python3"
  },
  "keywords": [
   "Iron deficiency",
   "Heart failure",
   "Energy metabolism",
   "Extracellular flux analysis",
   "31P-Magnetic resonance spectroscopy"
  ],
  "language_info": {
   "codemirror_mode": {
    "name": "ipython",
    "version": 3
   },
   "file_extension": ".py",
   "mimetype": "text/x-python",
   "name": "python",
   "nbconvert_exporter": "python",
   "pygments_lexer": "ipython3",
   "version": "3.8.10"
  },
  "licenses": [
   {
    "content": [
     {
      "content": [
       "This article is distributed under the terms of the ",
       {
        "content": [
         "Creative Commons Attribution License"
        ],
        "target": "http://creativecommons.org/licenses/by/4.0/",
        "type": "Link"
       },
       ", which permits unrestricted use and redistribution provided that the original author and source are credited."
      ],
      "type": "Paragraph"
     }
    ],
    "type": "CreativeWork",
    "url": "http://creativecommons.org/licenses/by/4.0/"
   }
  ],
  "references": [
   {
    "authors": [
     {
      "familyNames": [
       "Maeder"
      ],
      "givenNames": [
       "MT"
      ],
      "type": "Person"
     },
     {
      "familyNames": [
       "Khammy"
      ],
      "givenNames": [
       "O"
      ],
      "type": "Person"
     },
     {
      "familyNames": [
       "dos Remedios"
      ],
      "givenNames": [
       "C"
      ],
      "type": "Person"
     },
     {
      "familyNames": [
       "dos Kaye"
      ],
      "givenNames": [
       "DM"
      ],
      "type": "Person"
     }
    ],
    "datePublished": {
     "type": "Date",
     "value": "2011"
    },
    "id": "bib1",
    "isPartOf": {
     "isPartOf": {
      "name": "Journal of the American College of Cardiology",
      "type": "Periodical"
     },
     "type": "PublicationVolume",
     "volumeNumber": 58
    },
    "pageEnd": 474,
    "pageStart": 480,
    "title": "Myocardial and systemic iron depletion in heart failure",
    "type": "Article",
    "url": "https://doi.org/10.1016/j.jacc.2011.01.059"
   },
   {
    "authors": [
     {
      "familyNames": [
       "Leszek"
      ],
      "givenNames": [
       "P"
      ],
      "type": "Person"
     },
     {
      "familyNames": [
       "Sochanowicz"
      ],
      "givenNames": [
       "B"
      ],
      "type": "Person"
     },
     {
      "familyNames": [
       "Szperl"
      ],
      "givenNames": [
       "M"
      ],
      "type": "Person"
     },
     {
      "familyNames": [
       "Kolsut"
      ],
      "givenNames": [
       "P"
      ],
      "type": "Person"
     },
     {
      "familyNames": [
       "Brzóska"
      ],
      "givenNames": [
       "K"
      ],
      "type": "Person"
     },
     {
      "familyNames": [
       "Piotrowski"
      ],
      "givenNames": [
       "W"
      ],
      "type": "Person"
     },
     {
      "familyNames": [
       "Rywik"
      ],
      "givenNames": [
       "TM"
      ],
      "type": "Person"
     },
     {
      "familyNames": [
       "Danko"
      ],
      "givenNames": [
       "B"
      ],
      "type": "Person"
     },
     {
      "familyNames": [
       "Polkowska-Motrenko"
      ],
      "givenNames": [
       "H"
      ],
      "type": "Person"
     },
     {
      "familyNames": [
       "Różański"
      ],
      "givenNames": [
       "JM"
      ],
      "type": "Person"
     },
     {
      "familyNames": [
       "Kruszewski"
      ],
      "givenNames": [
       "M"
      ],
      "type": "Person"
     }
    ],
    "datePublished": {
     "type": "Date",
     "value": "2011"
    },
    "id": "bib2",
    "isPartOf": {
     "isPartOf": {
      "name": "International Journal of Cardiology",
      "type": "Periodical"
     },
     "type": "PublicationVolume",
     "volumeNumber": 159
    },
    "pageEnd": 47,
    "pageStart": 52,
    "title": "Myocardial iron homeostasis in advanced chronic heart failure patients",
    "type": "Article",
    "url": "https://doi.org/10.1016/j.ijcard.2011.08.006"
   }
  ],
  "title": "Iron-regulatory proteins secure iron availability in cardiomyocytes to prevent heart failure",
  "toc-autonumbering": false,
  "toc-showcode": true,
  "toc-showmarkdowntxt": false,
  "toc-showtags": true
 },
 "nbformat": 4,
 "nbformat_minor": 5
}
